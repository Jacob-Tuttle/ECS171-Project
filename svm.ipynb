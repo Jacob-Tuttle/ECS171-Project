{
 "cells": [
  {
   "cell_type": "code",
   "execution_count": 2,
   "metadata": {
    "ExecuteTime": {
     "end_time": "2023-11-21T08:46:33.468668800Z",
     "start_time": "2023-11-21T08:46:33.465138800Z"
    }
   },
   "outputs": [],
   "source": [
    "import numpy as np\n",
    "from sklearn.svm import SVC\n",
    "from sklearn.model_selection import train_test_split\n",
    "from sklearn.metrics import accuracy_score\n",
    "from sklearn.datasets import load_breast_cancer\n",
    "\n",
    "\n",
    "# Exploratory data analysis\n",
    "import warnings\n",
    "warnings.filterwarnings(\"ignore\")\n",
    "import matplotlib.pyplot as plt\n",
    "%matplotlib inline\n",
    "import seaborn as sns\n",
    "sns.set(color_codes=True)\n",
    "import pandas as pd\n",
    "import numpy as np\n",
    "import plotly.express as px\n",
    "import plotly.figure_factory as ff\n",
    "\n",
    "from sklearn.preprocessing import OneHotEncoder\n",
    "from sklearn.preprocessing import MinMaxScaler\n",
    "# from sklearn.model_selection import train_test_split\n",
    "from sklearn.metrics import classification_report, mean_squared_error\n",
    "from sklearn.preprocessing import PolynomialFeatures\n",
    "from sklearn.linear_model import LinearRegression\n",
    "from sklearn.linear_model import LogisticRegression\n",
    "from sklearn import preprocessing\n",
    "\n",
    "from IPython.display import display\n",
    "\n",
    "from sklearn.svm import OneClassSVM\n",
    "from numpy import where\n",
    "from pathlib import Path"
   ]
  },
  {
   "cell_type": "code",
   "execution_count": 2,
   "metadata": {
    "ExecuteTime": {
     "end_time": "2023-11-21T08:46:33.473134200Z",
     "start_time": "2023-11-21T08:46:33.470670Z"
    }
   },
   "outputs": [],
   "source": [
    "class LinearSVM:\n",
    "    def __init__(self, learning_rate=0.001, epochs=10000, C=1.0):\n",
    "        self.learning_rate = learning_rate\n",
    "        self.epochs = epochs\n",
    "        self.C = C\n",
    "        self.weights = None\n",
    "        self.bias = None\n",
    "\n",
    "    def train(self, X, y):\n",
    "        num_samples, num_features = X.shape\n",
    "        self.weights = np.zeros(num_features)\n",
    "        self.bias = 0\n",
    "        min = float('inf')\n",
    "        max = float('inf')\n",
    "        for epoch in range(self.epochs):\n",
    "            # print(self.weights)\n",
    "            for i in range(num_samples):\n",
    "                pred = np.dot(X[i], self.weights) - self.bias\n",
    "                condition = y[i] * pred > 0\n",
    "                if not condition:\n",
    "                    self.weights -= self.learning_rate * (2 * self.C * self.weights - np.dot(X[i], y[i]))\n",
    "                    self.bias -= self.learning_rate * y[i]\n",
    "\n",
    "    def predict(self, X):\n",
    "        return np.sign(np.dot(X, self.weights) - self.bias)"
   ]
  },
  {
   "cell_type": "code",
   "execution_count": 3,
   "metadata": {
    "ExecuteTime": {
     "end_time": "2023-11-21T08:46:34.646618Z",
     "start_time": "2023-11-21T08:46:33.475134200Z"
    },
    "collapsed": false
   },
   "outputs": [],
   "source": [
    "# Import training data\n",
    "data_folder = Path(\"data-sets\")\n",
    "train_data = pd.read_csv(\"data-sets/train.csv\")\n",
    "test_data = pd.read_csv(\"data-sets/test.csv\") # test data is useless, has no credit score column\n",
    "\n",
    "#columns to drop\n",
    "drop = ['ID', 'Customer_ID', 'Month', 'Name', 'SSN', 'Occupation', 'Type_of_Loan', 'Credit_Mix', 'Credit_History_Age', 'Payment_of_Min_Amount', 'Payment_Behaviour']\n",
    "\n",
    "#columns to clean\n",
    "clean = ['Age', 'Annual_Income', 'Monthly_Inhand_Salary', 'Num_Bank_Accounts', 'Num_Credit_Card', 'Interest_Rate', 'Num_of_Loan', 'Delay_from_due_date', 'Num_of_Delayed_Payment', 'Changed_Credit_Limit', 'Num_Credit_Inquiries', 'Outstanding_Debt', 'Credit_Utilization_Ratio', 'Credit_History_Age', 'Total_EMI_per_month', 'Amount_invested_monthly', 'Monthly_Balance']\n",
    "\n",
    "#clean columns\n",
    "for item in clean:\n",
    "    train_data[item] = (train_data[item].astype(str)).str.extract(r'^((?:\\d*\\.\\d+|\\d+)$)', expand=False).astype(float)\n",
    "\n",
    "#map credit scores to number\n",
    "creditScoreMap = {'Poor': 1, 'Standard': 2, 'Good': 3}\n",
    "train_data['Credit_Score'] = train_data['Credit_Score'].replace(creditScoreMap)\n",
    "\n",
    "# #copy data and drop non-numeric columns\n",
    "df = train_data.copy().drop(columns=drop)\n",
    "df.dropna(inplace=True)\n",
    "df = df.reset_index(drop=True)"
   ]
  },
  {
   "cell_type": "code",
   "execution_count": 5,
   "metadata": {
    "ExecuteTime": {
     "end_time": "2023-11-21T08:46:34.688964500Z",
     "start_time": "2023-11-21T08:46:34.646618Z"
    }
   },
   "outputs": [],
   "source": [
    "X, y = df.drop(columns=['Credit_Score']), df['Credit_Score']\n",
    "X_train, X_test, y_train, y_test = train_test_split(X, y, test_size=0.2, random_state=42)\n",
    "X_train = X_train.reset_index(drop=True)\n",
    "X_test = X_test.reset_index(drop=True)"
   ]
  },
  {
   "cell_type": "code",
   "execution_count": 6,
   "metadata": {},
   "outputs": [
    {
     "name": "stdout",
     "output_type": "stream",
     "text": [
      "Linear Kernel\n",
      "              precision    recall  f1-score   support\n",
      "\n",
      "           1       0.62      0.41      0.50      2774\n",
      "           2       0.58      0.87      0.70      5064\n",
      "           3       0.00      0.00      0.00      1565\n",
      "\n",
      "    accuracy                           0.59      9403\n",
      "   macro avg       0.40      0.43      0.40      9403\n",
      "weighted avg       0.50      0.59      0.52      9403\n",
      "\n"
     ]
    }
   ],
   "source": [
    "svc_li = SVC(kernel='linear')\n",
    "\n",
    "scaler = preprocessing.StandardScaler()\n",
    "scaler.fit(X_train)\n",
    "\n",
    "Z_svm_train = scaler.transform(X_train)\n",
    "Z_svm_test = scaler.transform(X_test)\n",
    "\n",
    "svc_li.fit(Z_svm_train, np.asarray(y_train))\n",
    "\n",
    "print('Linear Kernel')\n",
    "print(classification_report(y_test, svc_li.predict(Z_svm_test)))\n"
   ]
  },
  {
   "cell_type": "code",
   "execution_count": 7,
   "metadata": {},
   "outputs": [
    {
     "name": "stdout",
     "output_type": "stream",
     "text": [
      "RBF Kernel\n",
      "              precision    recall  f1-score   support\n",
      "\n",
      "           1       0.70      0.48      0.57      2774\n",
      "           2       0.60      0.88      0.72      5064\n",
      "           3       0.56      0.02      0.05      1565\n",
      "\n",
      "    accuracy                           0.62      9403\n",
      "   macro avg       0.62      0.46      0.44      9403\n",
      "weighted avg       0.62      0.62      0.56      9403\n",
      "\n"
     ]
    }
   ],
   "source": [
    "# w/ rbf kernel\n",
    "svc_rbf = SVC(kernel='rbf')\n",
    "\n",
    "scaler = preprocessing.StandardScaler()\n",
    "scaler.fit(X_train)\n",
    "\n",
    "Z_svm_train = scaler.transform(X_train)\n",
    "Z_svm_test = scaler.transform(X_test)\n",
    "\n",
    "svc_rbf.fit(Z_svm_train, np.asarray(y_train))\n",
    "\n",
    "print('RBF Kernel')\n",
    "print(classification_report(y_test, svc_rbf.predict(Z_svm_test)))"
   ]
  }
 ],
 "metadata": {
  "kernelspec": {
   "display_name": "Python 3",
   "language": "python",
   "name": "python3"
  },
  "language_info": {
   "codemirror_mode": {
    "name": "ipython",
    "version": 3
   },
   "file_extension": ".py",
   "mimetype": "text/x-python",
   "name": "python",
   "nbconvert_exporter": "python",
   "pygments_lexer": "ipython3",
   "version": "3.10.13"
  }
 },
 "nbformat": 4,
 "nbformat_minor": 2
}
